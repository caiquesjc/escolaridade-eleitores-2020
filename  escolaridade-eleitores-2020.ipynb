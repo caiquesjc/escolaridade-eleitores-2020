{
 "cells": [
  {
   "cell_type": "markdown",
   "metadata": {},
   "source": [
    "## Fonte dos dados [TSE](https://www.tse.jus.br/eleicoes/estatisticas/repositorio-de-dados-eleitorais-1/repositorio-de-dados-eleitorais) \n",
    "\n",
    "### Link direto para [download](https://cdn.tse.jus.br/estatistica/sead/odsele/perfil_eleitor_secao/perfil_eleitor_secao_2020_SP.zip) do arquivo ###\n",
    "\n",
    "### População das cidades baseadas em [wikipedia](https://pt.wikipedia.org/wiki/Lista_de_municípios_de_São_Paulo_por_população) ##\n"
   ]
  },
  {
   "cell_type": "markdown",
   "metadata": {},
   "source": [
    "### Autores: [Caique Nascimento](https://github.com/caiquesjc) e [Sandro de Araújo](https://github.com/shaka20100) ###"
   ]
  },
  {
   "cell_type": "markdown",
   "metadata": {},
   "source": [
    "Bibliotecas que serão usadas"
   ]
  },
  {
   "cell_type": "code",
   "execution_count": 1,
   "metadata": {},
   "outputs": [],
   "source": [
    "import pandas as pd\n",
    "import numpy as np\n",
    "import matplotlib.pyplot as plt\n",
    "low_memory=False"
   ]
  },
  {
   "cell_type": "markdown",
   "metadata": {},
   "source": [
    "Atributos para leitura do arquivo."
   ]
  },
  {
   "cell_type": "code",
   "execution_count": 2,
   "metadata": {},
   "outputs": [],
   "source": [
    "arq = 'perfil_eleitor_secao_2020_SP.csv'\n",
    "colunas = ['NM_MUNICIPIO', 'DS_GENERO', 'DS_FAIXA_ETARIA', 'DS_GRAU_ESCOLARIDADE']\n",
    "df = pd.read_csv(arq, encoding='Latin-1', sep=';', usecols=colunas) "
   ]
  },
  {
   "cell_type": "markdown",
   "metadata": {},
   "source": [
    "Verificando a a quantidade de pessoas que foram cadastradas."
   ]
  },
  {
   "cell_type": "code",
   "execution_count": 3,
   "metadata": {},
   "outputs": [],
   "source": [
    "cidades = ['SÃO JOSÉ DOS CAMPOS', 'SANTO ANDRÉ', 'SÃO BERNARDO DO CAMPO']\n",
    "popu = {cidades[0]:0, cidades[1]:0, cidades[2]:0}\n",
    "\n",
    "for k in df['NM_MUNICIPIO']:\n",
    "    for i in popu:\n",
    "        if k == i:\n",
    "            popu[i] += 1"
   ]
  },
  {
   "cell_type": "markdown",
   "metadata": {},
   "source": [
    "Cidade | População\n",
    "--------| --------\n",
    "SÃO JOSÉ DOS CAMPOS| 249292\n",
    "SANTO ANDRÉ | 269377\n",
    "SÃO BERNARDO DO CAMPO | 283924\n",
    "\n",
    "Importante ressaltar que as informações são baseadas no arquivo disponibilizado pelo [TSE](https://www.tse.jus.br/eleicoes/estatisticas/repositorio-de-dados-eleitorais-1/repositorio-de-dados-eleitorais)\n"
   ]
  },
  {
   "cell_type": "markdown",
   "metadata": {},
   "source": [
    "Criando um DataFrame para cada cidade. É melhor para trabalhar."
   ]
  },
  {
   "cell_type": "code",
   "execution_count": 4,
   "metadata": {},
   "outputs": [],
   "source": [
    "sjc = df.loc[df[colunas[0]] == cidades[0], colunas]\n",
    "sa = df.loc[df[colunas[0]] == cidades[1], colunas]\n",
    "sbc = df.loc[df[colunas[0]] == cidades[2], colunas]"
   ]
  },
  {
   "cell_type": "markdown",
   "metadata": {},
   "source": [
    "Verificando quais escolaridades estão no DataFrame. Depois abrevia-se para a primeira letra de cada frase."
   ]
  },
  {
   "cell_type": "code",
   "execution_count": 5,
   "metadata": {},
   "outputs": [],
   "source": [
    "escolaridade= []\n",
    "for k in df['DS_GRAU_ESCOLARIDADE']: \n",
    "    if k not in escolaridade:\n",
    "        escolaridade.append(k)\n",
    "\n",
    "\n",
    "escolaridade2 = []\n",
    "for k in range(len(escolaridade)):\n",
    "    aux = ''\n",
    "    for i in escolaridade[k].split():\n",
    "        aux += i[:1]\n",
    "    escolaridade2.append(aux)\n",
    "    aux = ''"
   ]
  },
  {
   "cell_type": "markdown",
   "metadata": {},
   "source": [
    "Escolaridade | Abreviado\n",
    "---------|---------\n",
    "SUPERIOR COMPLETO | SC\n",
    "ANALFABETO | A\n",
    "ENSINO FUNDAMENTAL INCOMPLETO | EFI\n",
    "LÊ E ESCREVE | LEE\n",
    "ENSINO MÉDIO COMPLETO | EMC\n",
    "ENSINO MÉDIO INCOMPLETO | EMI\n",
    "ENSINO FUNDAMENTAL COMPLETO | EFC\n",
    "SUPERIOR INCOMPLETO | SI\n",
    "NÃO INFORMADO | NI"
   ]
  },
  {
   "cell_type": "markdown",
   "metadata": {},
   "source": [
    "Criando dicionários somente com índices para cada cidade, com íncices iguais as escolaridades."
   ]
  },
  {
   "cell_type": "code",
   "execution_count": 6,
   "metadata": {},
   "outputs": [],
   "source": [
    "sjces, saes, sbces = {}, {}, {}\n",
    "for k in escolaridade:\n",
    "    sjces[k] = 0 \n",
    "    saes[k] = 0\n",
    "    sbces[k] = 0"
   ]
  },
  {
   "cell_type": "markdown",
   "metadata": {},
   "source": [
    "Adicionando os valores em cada dicionário e também em uma lista, para ser usada no gráfico."
   ]
  },
  {
   "cell_type": "code",
   "execution_count": 7,
   "metadata": {},
   "outputs": [],
   "source": [
    "for k in sjc[\"DS_GRAU_ESCOLARIDADE\"].values:\n",
    "    for i in  sjces:\n",
    "        if k == i:\n",
    "            sjces[i] += 1\n",
    "sjcqtd = []\n",
    "for k in sjces:\n",
    "    sjcqtd.append(sjces[k])\n",
    "    \n",
    "            \n",
    "for k in sa[\"DS_GRAU_ESCOLARIDADE\"].values:\n",
    "    for i in  sjces:\n",
    "        if k == i:\n",
    "            saes[i] += 1\n",
    "            \n",
    "saqtd = []\n",
    "for k in saes:\n",
    "    saqtd.append(saes[k])\n",
    "    \n",
    "            \n",
    "for k in sbc[\"DS_GRAU_ESCOLARIDADE\"].values:\n",
    "    for i in  sjces:\n",
    "        if k == i:\n",
    "            sbces[i] += 1\n",
    "            \n",
    "sbcqtd = []\n",
    "for k in sbces:\n",
    "    sbcqtd.append(sbces[k])"
   ]
  },
  {
   "cell_type": "markdown",
   "metadata": {},
   "source": [
    "População cadastrada.\n",
    "\n",
    "CIDADE | SC | A | EFI | LEE | EMC | EMI | EFC | SI | NI\n",
    "------ | -- | - | --- | --- | --- | --- | --- | -- | --\n",
    "SJC    |43551| 6738| 44991| 9594| 67253| 28574| 27013| 21578| 0\n",
    "SA  |45887| 6816| 52092| 13803| 66124| 31855| 29365| 23435| 0\n",
    "SBC | 45597| 8754| 54214| 15069| 71201| 34043| 31378| 23668| 0"
   ]
  },
  {
   "cell_type": "markdown",
   "metadata": {},
   "source": [
    "Criando o gráfico.\n",
    "\n",
    "Este gráfico mostra a comparação de escolaridade entre os eleitores em três cidades paulistas, com quantidades de populações próximas.\n",
    "\n",
    "\n",
    "Nome da Cidade  | Nome Abreviado\n",
    "--------------| --------------\n",
    "São José dos Campos | SJC \n",
    "São Bernardo do Campo | SBC\n",
    "Santo André | SA"
   ]
  },
  {
   "cell_type": "code",
   "execution_count": 8,
   "metadata": {},
   "outputs": [
    {
     "data": {
      "image/png": "[encoded data removed]",
      "text/plain": [
       "<Figure size 720x360 with 1 Axes>"
      ]
     },
     "metadata": {
      "needs_background": "light"
     },
     "output_type": "display_data"
    }
   ],
   "source": [
    "barlarg = 0.20\n",
    "\n",
    "plt.figure(figsize=(10,5))\n",
    "\n",
    "b1 = np.arange(len(escolaridade2))\n",
    "b2 = [x + barlarg for x in b1]\n",
    "b3 = [x + barlarg for x in b2]\n",
    "\n",
    "plt.bar(b1, sjcqtd, color='c', width=barlarg, label='SJC')\n",
    "plt.bar(b2, sbcqtd, color='b', width=barlarg, label='SBC')\n",
    "plt.bar(b3, saqtd, color='r', width=barlarg, label='SA')\n",
    "\n",
    "plt.xlabel('Escolaridade')\n",
    "plt.xticks([r + barlarg for r in range(len(sjcqtd))], escolaridade2)\n",
    "plt.ylabel('Pessoas')\n",
    "plt.title('Escolaridade das pessoas')\n",
    "\n",
    "plt.legend()\n",
    "plt.show()"
   ]
  },
  {
   "cell_type": "markdown",
   "metadata": {},
   "source": [
    "Criando um DataFrame para comparar a escolaridade entre pessoas do sexo Feminino e Masculino Em SJC"
   ]
  },
  {
   "cell_type": "code",
   "execution_count": 9,
   "metadata": {},
   "outputs": [],
   "source": [
    "sjcfem = sjc.loc[sjc['DS_GENERO'] == 'FEMININO', ['DS_GRAU_ESCOLARIDADE']]\n",
    "sjcmas = sjc.loc[sjc['DS_GENERO'] == 'MASCULINO', ['DS_GRAU_ESCOLARIDADE']]"
   ]
  },
  {
   "cell_type": "markdown",
   "metadata": {},
   "source": [
    "Criando dicionários e listas para criar o gráfico."
   ]
  },
  {
   "cell_type": "code",
   "execution_count": 10,
   "metadata": {},
   "outputs": [],
   "source": [
    "sjcfemdic = {}\n",
    "sjcfemlis = []\n",
    "sjcmasdic = {}\n",
    "sjcmaslis = []\n",
    "for k in escolaridade:\n",
    "    sjcfemdic[k] = 0\n",
    "    sjcmasdic[k] = 0\n",
    "\n",
    "for k in sjcfem[\"DS_GRAU_ESCOLARIDADE\"].values:\n",
    "    for i in  sjcfemdic:\n",
    "        if k == i:\n",
    "            sjcfemdic[i] += 1\n",
    "\n",
    "for k in sjcmas[\"DS_GRAU_ESCOLARIDADE\"].values:\n",
    "    for i in  sjcmasdic:\n",
    "        if k == i:\n",
    "            sjcmasdic[i] += 1\n",
    "            \n",
    "for k in sjcfemdic: sjcfemlis.append(sjcfemdic[k])\n",
    "for k in sjcmasdic: sjcmaslis.append(sjcmasdic[k])"
   ]
  },
  {
   "cell_type": "markdown",
   "metadata": {},
   "source": [
    "SEXO | SC | A | EFI | LEE | EMC | EMI | EFC | SI | NI\n",
    "------ | -- | - | --- | --- | --- | --- | --- | -- | --\n",
    "FEMININO |24528| 4039| 24553| 5479 | 36184| 14601| 13923| 11450| 0\n",
    "MASCULINO | 19022| 2694| 20432| 4105| 31069| 13973| 13088| 10128| 0\n"
   ]
  },
  {
   "cell_type": "markdown",
   "metadata": {},
   "source": [
    "Criando o gráfico de comparação entre Feminino e Masculino."
   ]
  },
  {
   "cell_type": "code",
   "execution_count": 11,
   "metadata": {},
   "outputs": [
    {
     "data": {
      "image/png": "[encoded data removed]",
      "text/plain": [
       "<Figure size 432x288 with 1 Axes>"
      ]
     },
     "metadata": {
      "needs_background": "light"
     },
     "output_type": "display_data"
    }
   ],
   "source": [
    "plt.bar(escolaridade2, sjcfemlis, color='c', label='Feminino')\n",
    "plt.bar(escolaridade2, sjcmaslis, color='b', bottom=sjcfemlis, label='Masculino')\n",
    "plt.xlabel('Escolaridade')\n",
    "plt.ylabel('Pessoas')\n",
    "plt.legend()\n",
    "plt.show()"
   ]
  },
  {
   "cell_type": "code",
   "execution_count": null,
   "metadata": {},
   "outputs": [],
   "source": []
  }
 ],
 "metadata": {
  "kernelspec": {
   "display_name": "Python 3",
   "language": "python",
   "name": "python3"
  },
  "language_info": {
   "codemirror_mode": {
    "name": "ipython",
    "version": 3
   },
   "file_extension": ".py",
   "mimetype": "text/x-python",
   "name": "python",
   "nbconvert_exporter": "python",
   "pygments_lexer": "ipython3",
   "version": "3.8.5"
  }
 },
 "nbformat": 4,
 "nbformat_minor": 4
}
